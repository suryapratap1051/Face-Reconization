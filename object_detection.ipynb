{
 "cells": [
  {
   "cell_type": "code",
   "execution_count": 93,
   "id": "340a122b-60df-487d-b25e-91ff1111888c",
   "metadata": {},
   "outputs": [],
   "source": [
    "import numpy as np\n",
    "import cv2"
   ]
  },
  {
   "cell_type": "code",
   "execution_count": 95,
   "id": "7ca52cb0-308e-4d83-8661-bc2ace9cc8c2",
   "metadata": {},
   "outputs": [],
   "source": [
    "#face detection"
   ]
  },
  {
   "cell_type": "code",
   "execution_count": 97,
   "id": "3dd4878b-dee8-4b18-9a5a-6bcea4c8394d",
   "metadata": {},
   "outputs": [],
   "source": [
    "img=cv2.imread('./images/modi.jpeg')\n",
    "cv2.imshow('images',img)\n",
    "cv2.waitKey(0)\n",
    "cv2.destroyAllWindows()"
   ]
  },
  {
   "cell_type": "code",
   "execution_count": 98,
   "id": "86cfb3a5-de99-424e-bdf3-d888f5327d73",
   "metadata": {},
   "outputs": [],
   "source": [
    "#load casecade classifier- frontface"
   ]
  },
  {
   "cell_type": "code",
   "execution_count": 111,
   "id": "b1e6cc59-f564-42d9-ac77-ad4b5b5d76a9",
   "metadata": {},
   "outputs": [],
   "source": [
    "face_cascade=cv2.CascadeClassifier('./cascade_classifie/haarcascade_frontalface_default.xml')"
   ]
  },
  {
   "cell_type": "code",
   "execution_count": 113,
   "id": "6fb61043-2558-4fa9-8942-ec7653bf1a89",
   "metadata": {},
   "outputs": [],
   "source": [
    "#apply cascadeclassifier to an image"
   ]
  },
  {
   "cell_type": "code",
   "execution_count": 115,
   "id": "9a65abff-b272-415b-8ffb-2e50d5a2d708",
   "metadata": {},
   "outputs": [
    {
     "ename": "error",
     "evalue": "OpenCV(4.10.0) D:\\a\\opencv-python\\opencv-python\\opencv\\modules\\objdetect\\src\\cascadedetect.cpp:1703: error: (-215:Assertion failed) !empty() in function 'cv::CascadeClassifier::detectMultiScale'\n",
     "output_type": "error",
     "traceback": [
      "\u001b[1;31m---------------------------------------------------------------------------\u001b[0m",
      "\u001b[1;31merror\u001b[0m                                     Traceback (most recent call last)",
      "Cell \u001b[1;32mIn[115], line 1\u001b[0m\n\u001b[1;32m----> 1\u001b[0m faces,num_detection\u001b[38;5;241m=\u001b[39mface_cascade\u001b[38;5;241m.\u001b[39mdetectMultiScale2(img)\n",
      "\u001b[1;31merror\u001b[0m: OpenCV(4.10.0) D:\\a\\opencv-python\\opencv-python\\opencv\\modules\\objdetect\\src\\cascadedetect.cpp:1703: error: (-215:Assertion failed) !empty() in function 'cv::CascadeClassifier::detectMultiScale'\n"
     ]
    }
   ],
   "source": [
    "faces,num_detection=face_cascade.detectMultiScale2(img)"
   ]
  },
  {
   "cell_type": "code",
   "execution_count": 127,
   "id": "f04db27e-c54e-4caf-98eb-9d8e5cc5f2f5",
   "metadata": {},
   "outputs": [
    {
     "name": "stdout",
     "output_type": "stream",
     "text": [
      "[[78 42 69 69]]\n"
     ]
    }
   ],
   "source": [
    "print(faces)"
   ]
  },
  {
   "cell_type": "code",
   "execution_count": 124,
   "id": "7c425461-6b7f-49ea-8cca-32545592bbe0",
   "metadata": {},
   "outputs": [
    {
     "name": "stdout",
     "output_type": "stream",
     "text": [
      "[15]\n"
     ]
    }
   ],
   "source": [
    "print(num_detection)"
   ]
  },
  {
   "cell_type": "code",
   "execution_count": null,
   "id": "9e5291eb-f7ee-40df-a0f6-9d4c77d4b3f0",
   "metadata": {},
   "outputs": [],
   "source": []
  },
  {
   "cell_type": "code",
   "execution_count": null,
   "id": "db5ad940-66b0-4243-aa3a-73f4134bd67b",
   "metadata": {},
   "outputs": [],
   "source": []
  }
 ],
 "metadata": {
  "kernelspec": {
   "display_name": "Python 3 (ipykernel)",
   "language": "python",
   "name": "python3"
  },
  "language_info": {
   "codemirror_mode": {
    "name": "ipython",
    "version": 3
   },
   "file_extension": ".py",
   "mimetype": "text/x-python",
   "name": "python",
   "nbconvert_exporter": "python",
   "pygments_lexer": "ipython3",
   "version": "3.11.7"
  }
 },
 "nbformat": 4,
 "nbformat_minor": 5
}
