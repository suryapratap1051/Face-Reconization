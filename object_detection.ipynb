{
 "cells": [
  {
   "cell_type": "code",
   "execution_count": 42,
   "id": "340a122b-60df-487d-b25e-91ff1111888c",
   "metadata": {},
   "outputs": [],
   "source": [
    "import numpy as np\n",
    "import cv2"
   ]
  },
  {
   "cell_type": "code",
   "execution_count": 44,
   "id": "7ca52cb0-308e-4d83-8661-bc2ace9cc8c2",
   "metadata": {},
   "outputs": [],
   "source": [
    "#face detection"
   ]
  },
  {
   "cell_type": "code",
   "execution_count": 46,
   "id": "3dd4878b-dee8-4b18-9a5a-6bcea4c8394d",
   "metadata": {},
   "outputs": [],
   "source": [
    "img=cv2.imread('./images/modi.jpeg')\n",
    "cv2.imshow('images',img)\n",
    "cv2.waitKey(0)\n",
    "cv2.destroyAllWindows()"
   ]
  },
  {
   "cell_type": "code",
   "execution_count": 48,
   "id": "86cfb3a5-de99-424e-bdf3-d888f5327d73",
   "metadata": {},
   "outputs": [],
   "source": [
    "#load casecade classifier- frontface"
   ]
  },
  {
   "cell_type": "code",
   "execution_count": 50,
   "id": "b1e6cc59-f564-42d9-ac77-ad4b5b5d76a9",
   "metadata": {},
   "outputs": [],
   "source": [
    "face_cascade=cv2.CascadeClassifier('cascade_classifier/haarcascade_frontalface_default.xml')"
   ]
  },
  {
   "cell_type": "code",
   "execution_count": 52,
   "id": "6fb61043-2558-4fa9-8942-ec7653bf1a89",
   "metadata": {},
   "outputs": [],
   "source": [
    "#apply cascadeclassifier to an image"
   ]
  },
  {
   "cell_type": "code",
   "execution_count": 54,
   "id": "9a65abff-b272-415b-8ffb-2e50d5a2d708",
   "metadata": {},
   "outputs": [],
   "source": [
    "faces,num_detection=face_cascade.detectMultiScale2(img)"
   ]
  },
  {
   "cell_type": "code",
   "execution_count": 56,
   "id": "f04db27e-c54e-4caf-98eb-9d8e5cc5f2f5",
   "metadata": {},
   "outputs": [
    {
     "name": "stdout",
     "output_type": "stream",
     "text": [
      "[[78 42 69 69]]\n"
     ]
    }
   ],
   "source": [
    "print(faces)"
   ]
  },
  {
   "cell_type": "code",
   "execution_count": 58,
   "id": "7c425461-6b7f-49ea-8cca-32545592bbe0",
   "metadata": {},
   "outputs": [
    {
     "name": "stdout",
     "output_type": "stream",
     "text": [
      "[15]\n"
     ]
    }
   ],
   "source": [
    "print(num_detection)"
   ]
  },
  {
   "cell_type": "code",
   "execution_count": 60,
   "id": "f32b5a77-b57b-4293-8cd4-017b39341b58",
   "metadata": {},
   "outputs": [],
   "source": [
    "s1=(78,42)\n",
    "s2=(78+69,42+69)\n",
    "#draw the rectangle\n",
    "cv2.rectangle(img,s1,s2,(0,255,0))\n",
    "cv2.imshow('face detection',img)\n",
    "cv2.waitKey(0)\n",
    "cv2.destroyAllWindows()"
   ]
  },
  {
   "cell_type": "code",
   "execution_count": 62,
   "id": "efcfeb7e-ad14-4194-8c3c-ceeb67cca511",
   "metadata": {},
   "outputs": [],
   "source": [
    "#draw the circle\n",
    "cx= 78+ 69//2\n",
    "cy= 42+ 69//2\n",
    "r=  69//2\n",
    "cv2.circle(img, (cx, cy), r, (0, 255, 255), 2)\n",
    "cv2.imshow('face detection circle',img)\n",
    "cv2.waitKey(0)\n",
    "cv2.destroyAllWindows()\n"
   ]
  },
  {
   "cell_type": "markdown",
   "id": "8184463f-f148-4120-bda5-1f8a1978971b",
   "metadata": {},
   "source": [
    "MULTIFACE DETECTION"
   ]
  },
  {
   "cell_type": "code",
   "execution_count": 65,
   "id": "5c4fce3d-0105-471f-8383-28ac68b9435a",
   "metadata": {},
   "outputs": [],
   "source": [
    "img=cv2.imread('./images/multi.jpg')\n",
    "cv2.imshow('images',img)\n",
    "cv2.waitKey(0)\n",
    "cv2.destroyAllWindows()"
   ]
  },
  {
   "cell_type": "code",
   "execution_count": 67,
   "id": "cd4eb66a-736d-4214-b193-39052cdc1de3",
   "metadata": {},
   "outputs": [],
   "source": [
    "face_cascade=cv2.CascadeClassifier('cascade_classifier/haarcascade_frontalface_default.xml')"
   ]
  },
  {
   "cell_type": "code",
   "execution_count": 105,
   "id": "2bc264a3-ebf0-4d3a-b5de-5fe0fb569d5a",
   "metadata": {},
   "outputs": [],
   "source": [
    "faces,num_detection=face_cascade.detectMultiScale2(img,minNeighbors=12)\n",
    "#step-1\n",
    "for x,y,w,h in faces:\n",
    "    cv2.rectangle(img,(x,y),(x+w,y+h),(0,255,0))\n",
    "#step-2 display images\n",
    "cv2.imshow('face detection',img)\n",
    "cv2.waitKey(0)\n",
    "cv2.destroyAllWindows()\n",
    "    "
   ]
  },
  {
   "cell_type": "code",
   "execution_count": 98,
   "id": "25e48b36-ded4-4a10-b8a2-ccf2fb963165",
   "metadata": {},
   "outputs": [
    {
     "name": "stdout",
     "output_type": "stream",
     "text": [
      "[[407 383  74  74]\n",
      " [252 338  89  89]\n",
      " [533 342  97  97]]\n"
     ]
    }
   ],
   "source": [
    "print(faces)"
   ]
  },
  {
   "cell_type": "code",
   "execution_count": 101,
   "id": "d3c9dd0b-f568-4ffa-a882-430b2bdb9480",
   "metadata": {},
   "outputs": [
    {
     "name": "stdout",
     "output_type": "stream",
     "text": [
      "[53 32 88]\n"
     ]
    }
   ],
   "source": [
    "print(num_detection)"
   ]
  },
  {
   "cell_type": "code",
   "execution_count": null,
   "id": "74db9918-faef-4de4-ad48-a6db1700ff4e",
   "metadata": {},
   "outputs": [],
   "source": []
  }
 ],
 "metadata": {
  "kernelspec": {
   "display_name": "Python 3 (ipykernel)",
   "language": "python",
   "name": "python3"
  },
  "language_info": {
   "codemirror_mode": {
    "name": "ipython",
    "version": 3
   },
   "file_extension": ".py",
   "mimetype": "text/x-python",
   "name": "python",
   "nbconvert_exporter": "python",
   "pygments_lexer": "ipython3",
   "version": "3.11.7"
  }
 },
 "nbformat": 4,
 "nbformat_minor": 5
}
